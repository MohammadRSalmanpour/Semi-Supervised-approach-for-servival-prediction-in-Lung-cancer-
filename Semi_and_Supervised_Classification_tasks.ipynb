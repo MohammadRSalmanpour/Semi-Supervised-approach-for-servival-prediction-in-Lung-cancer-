{
  "cells": [
    {
      "cell_type": "code",
      "execution_count": null,
      "metadata": {
        "colab": {
          "base_uri": "https://localhost:8080/"
        },
        "id": "-N1RudHI5yol",
        "outputId": "f661619f-c888-4c75-c718-27f7db683cd8"
      },
      "outputs": [],
      "source": [
        "from google.colab import drive\n",
        "drive.mount('/content/drive')"
      ]
    },
    {
      "cell_type": "code",
      "execution_count": null,
      "metadata": {
        "gather": {
          "logged": 1713043791390
        },
        "id": "3WOY6Dl6lYtZ",
        "jupyter": {
          "outputs_hidden": false,
          "source_hidden": false
        },
        "nteract": {
          "transient": {
            "deleting": false
          }
        }
      },
      "outputs": [],
      "source": [
        "#############Common parameters  ######"
      ]
    },
    {
      "cell_type": "code",
      "execution_count": null,
      "metadata": {
        "gather": {
          "logged": 1713049325881
        },
        "id": "FhdQarzglYta",
        "jupyter": {
          "outputs_hidden": false,
          "source_hidden": false
        },
        "nteract": {
          "transient": {
            "deleting": false
          }
        }
      },
      "outputs": [],
      "source": [
        "No_Features=10  ### Number of features selected by PCA"
      ]
    },
    {
      "cell_type": "code",
      "execution_count": null,
      "metadata": {
        "gather": {
          "logged": 1713049333191
        },
        "id": "4i55cYuOlYta"
      },
      "outputs": [],
      "source": [
        "import pandas as pd\n",
        "import numpy as np\n",
        "###Load tabular data\n",
        "LC_RF_PT = pd.read_excel(\".../LC_DF_SCT.xlsx\" , engine='openpyxl',header=None)   ## Load you Lung Cancer Dataset\n",
        "HC_RF_PT = pd.read_excel(\".../HC_DF_SCT.xlsx\" , engine='openpyxl',header=None)   ## Load you Head and Neck Cancer Dataset\n",
        "Lung_Outcome_all = pd.read_excel(\".../LC_outcome.xlsx\" , engine='openpyxl',header=None)   ## Load you Lung ccancer Outcomes\n",
        "Lung_Outcome=Lung_Outcome_all.iloc[:, 2:]\n",
        "\n",
        "Length_LC_RF_PT= len(LC_RF_PT)\n",
        "Length_HC_RF_PT = len(HC_RF_PT)\n",
        "Length_Lung_Outcome = len(Lung_Outcome)\n",
        "\n"
      ]
    },
    {
      "cell_type": "code",
      "execution_count": null,
      "metadata": {
        "gather": {
          "logged": 1713049333364
        },
        "id": "nro6FTBJlYtb",
        "jupyter": {
          "outputs_hidden": false,
          "source_hidden": false
        },
        "nteract": {
          "transient": {
            "deleting": false
          }
        }
      },
      "outputs": [],
      "source": [
        "############### Concatinate Datasets for splitting ##############"
      ]
    },
    {
      "cell_type": "code",
      "execution_count": null,
      "metadata": {
        "gather": {
          "logged": 1713049333518
        },
        "id": "74xEDpeFlYtc",
        "jupyter": {
          "outputs_hidden": false,
          "source_hidden": false
        },
        "nteract": {
          "transient": {
            "deleting": false
          }
        }
      },
      "outputs": [],
      "source": [
        "import numpy as np\n",
        "\n",
        "Concatinated_RF_PT = np.concatenate((LC_RF_PT, HC_RF_PT), axis=0)"
      ]
    },
    {
      "cell_type": "code",
      "execution_count": null,
      "metadata": {
        "gather": {
          "logged": 1713050520086
        },
        "id": "ZeW5vMoulYtf",
        "jupyter": {
          "outputs_hidden": false,
          "source_hidden": false
        },
        "nteract": {
          "transient": {
            "deleting": false
          }
        }
      },
      "outputs": [],
      "source": [
        "############## Split lung data for five fold cross validation and external testing  ####################"
      ]
    },
    {
      "cell_type": "code",
      "execution_count": null,
      "metadata": {
        "gather": {
          "logged": 1713050520271
        },
        "id": "osAVc0jBlYtg",
        "jupyter": {
          "outputs_hidden": false,
          "source_hidden": false
        },
        "nteract": {
          "transient": {
            "deleting": false
          }
        }
      },
      "outputs": [],
      "source": [
        "from sklearn.model_selection import train_test_split\n",
        "\n",
        "### Split lung patinets from head and neck\n",
        "Split_LC_RF_PT = SelectedFeatures[0:Length_LC_RF_PT, :]\n",
        "Split_HC_RF_PT = SelectedFeatures[Length_LC_RF_PT:, :]\n",
        "\n",
        "X_train_L, X_test_L_EX, Y_train_L, Y_test_L_EX = train_test_split(Split_LC_RF_PT, Lung_Outcome, test_size=0.20)\n"
      ]
    },
    {
      "cell_type": "code",
      "execution_count": null,
      "metadata": {
        "gather": {
          "logged": 1713049333692
        },
        "id": "1q_LtYtIlYtd",
        "jupyter": {
          "outputs_hidden": false,
          "source_hidden": false
        },
        "nteract": {
          "transient": {
            "deleting": false
          }
        }
      },
      "outputs": [],
      "source": [
        "############ Normalize datasets  #####################"
      ]
    },
    {
      "cell_type": "code",
      "execution_count": null,
      "metadata": {
        "gather": {
          "logged": 1713049333859
        },
        "id": "TjA-ygijlYtd",
        "jupyter": {
          "outputs_hidden": false,
          "source_hidden": false
        },
        "nteract": {
          "transient": {
            "deleting": false
          }
        }
      },
      "outputs": [],
      "source": [
        "from sklearn.preprocessing import StandardScaler\n",
        "\n",
        "scaler = StandardScaler()\n",
        "X_train_L = scaler.fit_transform(X_train_L)\n",
        "X_test_L_EX = scaler.transform(X_test_L_EX)\n"
      ]
    },
    {
      "cell_type": "code",
      "execution_count": null,
      "metadata": {
        "gather": {
          "logged": 1713049334010
        },
        "id": "2KjWM1S6lYte",
        "jupyter": {
          "outputs_hidden": false,
          "source_hidden": false
        },
        "nteract": {
          "transient": {
            "deleting": false
          }
        }
      },
      "outputs": [],
      "source": [
        "#############   Reduce feature size by feature selection algorithms o feature extraction algorithms  ###################3"
      ]
    },
    {
      "cell_type": "code",
      "execution_count": null,
      "metadata": {
        "gather": {
          "logged": 1713050519870
        },
        "id": "9r45OuDrlYte",
        "jupyter": {
          "outputs_hidden": false,
          "source_hidden": false
        },
        "nteract": {
          "transient": {
            "deleting": false
          }
        }
      },
      "outputs": [],
      "source": [
        "from sklearn.decomposition import PCA\n",
        "\n",
        "pca = PCA(n_components=No_Features)\n",
        "X_train_L = pca.fit_transform(X_train_L)\n",
        "X_test_L_EX = pca.transform(X_test_L_EX)\n"
      ]
    },
    {
      "cell_type": "code",
      "execution_count": null,
      "metadata": {
        "gather": {
          "logged": 1713050520527
        },
        "id": "BSISH5pWlYtg",
        "jupyter": {
          "outputs_hidden": false,
          "source_hidden": false
        },
        "nteract": {
          "transient": {
            "deleting": false
          }
        }
      },
      "outputs": [],
      "source": [
        "############# Split Five folds ###############"
      ]
    },
    {
      "cell_type": "code",
      "execution_count": null,
      "metadata": {
        "colab": {
          "base_uri": "https://localhost:8080/"
        },
        "gather": {
          "logged": 1713050522625
        },
        "id": "xtV8BUVTlYth",
        "jupyter": {
          "outputs_hidden": false,
          "source_hidden": false
        },
        "nteract": {
          "transient": {
            "deleting": false
          }
        },
        "outputId": "6d4d1e42-f529-4eb7-c20f-cff7a606e8c4"
      },
      "outputs": [],
      "source": [
        "from sklearn.ensemble import RandomForestClassifier\n",
        "from sklearn.model_selection import KFold\n",
        "import numpy as np\n",
        "import pandas as pd\n",
        "from sklearn.metrics import accuracy_score\n",
        "from sklearn.ensemble import VotingClassifier\n",
        "\n",
        "\n",
        "# Set random seed for reproducibility\n",
        "random_seed = 10\n",
        "np.random.seed(random_seed)\n",
        "\n",
        "# Convert y_train to a NumPy array (if it's not already)\n",
        "Y_train_L = np.array(Y_train_L)\n",
        "\n",
        "# Initialize Random Forest classifier\n",
        "#rf_classifier = RandomForestClassifier()\n",
        "rf_classifier = RandomForestClassifier(\n",
        "    n_estimators=5,\n",
        "    criterion='gini',\n",
        "    max_depth=2,\n",
        "    min_samples_split=5,\n",
        "    min_samples_leaf=3,\n",
        "    max_features='auto',\n",
        "    bootstrap=True,\n",
        "    random_state=42\n",
        ")\n",
        "# Define the number of folds for cross-validation\n",
        "num_folds = 5\n",
        "# Initialize KFold with shuffling\n",
        "kf = KFold(n_splits=num_folds, shuffle=True, random_state=random_seed)\n",
        "\n",
        "# Initialize an array to store cross-validation scores\n",
        "cv_scores_MPL_SSL= []\n",
        "cv_scores_MPL_SL= []\n",
        "cv_scores_MLP_SSL_EX = []\n",
        "cv_scores_MLP_SL_EX = []\n",
        "\n",
        "cv_scores_SVM_SSL= []\n",
        "cv_scores_SVM_SL= []\n",
        "cv_scores_SVM_SSL_EX = []\n",
        "cv_scores_SVM_SL_EX = []\n",
        "\n",
        "cv_scores_KNN_SSL= []\n",
        "cv_scores_KNN_SL= []\n",
        "cv_scores_KNN_SSL_EX = []\n",
        "cv_scores_KNN_SL_EX = []\n",
        "\n",
        "cv_scores_Stacking_SSL= []\n",
        "cv_scores_Stacking_SL= []\n",
        "cv_scores_Stacking_SSL_EX = []\n",
        "cv_scores_Stacking_SL_EX = []\n",
        "\n",
        "# Perform cross-validation\n",
        "for train_index, val_index in kf.split(X_train_L):\n",
        "    # Split data into training and validation sets\n",
        "    X_train_fold, X_val_fold = X_train_L[train_index], X_train_L[val_index]\n",
        "    y_train_fold, y_val_fold = Y_train_L[train_index], Y_train_L[val_index]\n",
        "\n",
        "    # Train the classifier\n",
        "    rf_classifier.fit(X_train_fold, y_train_fold)\n",
        "\n",
        "    # Label HC datasets_Sudo Labeling\n",
        "    predictions_HC = rf_classifier.predict(Split_HC_RF_PT)\n",
        "    # Reshape predictions_HC to match the shape of y_train_fold\n",
        "    predictions_HC = predictions_HC.reshape(-1, 1)\n",
        "\n",
        "    # Concatenate predicted HC patients with LC data\n",
        "    Concatinated_X_RF_PT_Folds = np.concatenate((X_train_fold, Split_HC_RF_PT), axis=0)\n",
        "    Concatinated_Y_RF_PT_Folds = np.concatenate((y_train_fold, predictions_HC), axis=0)\n",
        "\n",
        "    ############Classifers Classifers Classifers Classifers Classifers Classifers  Classifers Classifers Classifers Classifers Classifers  ###########################\n",
        "\n",
        "   ### 1- MLP\n",
        "    ### Semisupervised\n",
        "    from sklearn.neural_network import MLPClassifier\n",
        "    from sklearn.model_selection import train_test_split\n",
        "    from sklearn.metrics import accuracy_score\n",
        "    from sklearn.metrics import roc_auc_score\n",
        "\n",
        "    mlp_classifier_SSL = MLPClassifier(hidden_layer_sizes=(50, (50//2),2 ), activation='relu', solver='adam', max_iter=100, random_state=10)\n",
        "    #Internal\n",
        "    mlp_classifier_SSL.fit(Concatinated_X_RF_PT_Folds, Concatinated_Y_RF_PT_Folds)\n",
        "    y_predMLP = mlp_classifier_SSL.predict(X_val_fold)\n",
        "    accuracyMLP_SSL = accuracy_score(y_val_fold, y_predMLP)\n",
        "    cv_scores_MPL_SSL.append(accuracyMLP_SSL)\n",
        "    #External\n",
        "    y_predMLP = mlp_classifier_SSL.predict(X_test_L_EX)\n",
        "    accuracyMLP_SSL = accuracy_score(Y_test_L_EX, y_predMLP)\n",
        "    cv_scores_MLP_SSL_EX.append(accuracyMLP_SSL)\n",
        "\n",
        "    ### Supervised\n",
        "\n",
        "    mlp_classifier_SL = MLPClassifier(hidden_layer_sizes=(15, (10//2),2 ), activation='relu', solver='adam', max_iter=100, random_state=10)\n",
        "    #Internal\n",
        "    mlp_classifier_SL.fit(X_train_fold, y_train_fold)\n",
        "    y_predMLP = mlp_classifier_SL.predict(X_val_fold)\n",
        "    accuracyMLP_SL = accuracy_score(y_val_fold, y_predMLP)\n",
        "    cv_scores_MPL_SL.append(accuracyMLP_SL)\n",
        "    #External\n",
        "    y_predMLP = mlp_classifier_SL.predict(X_test_L_EX)\n",
        "    accuracyMLP_SL = accuracy_score(Y_test_L_EX, y_predMLP)\n",
        "    cv_scores_MLP_SL_EX.append(accuracyMLP_SL)\n",
        "\n",
        "\n",
        "############################################################\n",
        "   ### 2- SVM\n",
        "    ### Semisupervised\n",
        "    from sklearn.datasets import load_iris\n",
        "    from sklearn.model_selection import train_test_split\n",
        "    from sklearn.svm import SVC\n",
        "    from sklearn.metrics import accuracy_score\n",
        "\n",
        "    svm_clf_SSL = SVC(kernel='rbf', C=0.001, gamma='auto', random_state=52)\n",
        "    #svm_clf_SSL = SVC(kernel='rbf', C=1.0, gamma='scale', random_state=42)\n",
        "\n",
        "    #Internal\n",
        "    svm_clf_SSL.fit(Concatinated_X_RF_PT_Folds, Concatinated_Y_RF_PT_Folds)\n",
        "    SVMy_pred = svm_clf_SSL.predict(X_val_fold)\n",
        "    accuracySVM_SSL = accuracy_score(y_val_fold, SVMy_pred)\n",
        "    cv_scores_SVM_SSL.append(accuracySVM_SSL)\n",
        "    #External\n",
        "    y_predSVM = svm_clf_SSL.predict(X_test_L_EX)\n",
        "    accuracySVM_SSL = accuracy_score(Y_test_L_EX, y_predSVM)\n",
        "    cv_scores_SVM_SSL_EX.append(accuracySVM_SSL)\n",
        "\n",
        "    ### Supervised\n",
        "    svm_clf_SL = SVC(kernel='poly', C=1.0, gamma='auto', random_state=110)\n",
        "    #Internal\n",
        "    svm_clf_SL.fit(X_train_fold, y_train_fold)\n",
        "    SVMy_pred1 = svm_clf_SL.predict(X_val_fold)\n",
        "    accuracySVM_SL = accuracy_score(y_val_fold, SVMy_pred1)\n",
        "    cv_scores_SVM_SL.append(accuracySVM_SL)\n",
        "    #External\n",
        "    y_predSVM2 = svm_clf_SL.predict(X_test_L_EX)\n",
        "    accuracySVM_SL = accuracy_score(Y_test_L_EX, y_predSVM2)\n",
        "    cv_scores_SVM_SL_EX.append(accuracySVM_SL)\n",
        "\n",
        "### 3- KNN\n",
        "    ### Semisupervised\n",
        "    from sklearn.datasets import load_iris\n",
        "    from sklearn.model_selection import train_test_split\n",
        "    from sklearn.neighbors import KNeighborsClassifier\n",
        "    from sklearn.metrics import accuracy_score\n",
        "\n",
        "    KNN_clf_SSL = KNeighborsClassifier(n_neighbors=25)  # Specify the number of neighbors (k)\n",
        "\n",
        "\n",
        "    #Internal\n",
        "    KNN_clf_SSL.fit(Concatinated_X_RF_PT_Folds, Concatinated_Y_RF_PT_Folds)\n",
        "    KNNy_pred = KNN_clf_SSL.predict(X_val_fold)\n",
        "    accuracyKNN_SSL = accuracy_score(y_val_fold, KNNy_pred)\n",
        "    cv_scores_KNN_SSL.append(accuracyKNN_SSL)\n",
        "    #External\n",
        "    y_predKNN = KNN_clf_SSL.predict(X_test_L_EX)\n",
        "    accuracyKNN_SSL = accuracy_score(Y_test_L_EX, y_predKNN)\n",
        "    cv_scores_KNN_SSL_EX.append(accuracyKNN_SSL)\n",
        "\n",
        "    ### Supervised\n",
        "    KNN_clf_SL = KNeighborsClassifier(n_neighbors=1)  # Specify the number of neighbors (k)\n",
        "\n",
        "    #Internal\n",
        "    KNN_clf_SL.fit(X_train_fold, y_train_fold)\n",
        "    KNNy_pred = KNN_clf_SL.predict(X_val_fold)\n",
        "    accuracyKNN_SL = accuracy_score(y_val_fold, KNNy_pred)\n",
        "    cv_scores_KNN_SL.append(accuracyKNN_SL)\n",
        "    #External\n",
        "    y_predKNN = KNN_clf_SL.predict(X_test_L_EX)\n",
        "    accuracyKNN_SL = accuracy_score(Y_test_L_EX, y_predKNN)\n",
        "    cv_scores_KNN_SL_EX.append(accuracyKNN_SL)\n",
        "\n",
        "\n",
        "############################################################\n",
        "    ### 4- Stacking\n",
        "    ### Semisupervised\n",
        "    from sklearn.neural_network import MLPClassifier\n",
        "    from sklearn.model_selection import train_test_split\n",
        "    from sklearn.metrics import accuracy_score\n",
        "    from sklearn.metrics import roc_auc_score\n",
        "    from sklearn.ensemble import StackingClassifier\n",
        "    from sklearn.linear_model import LogisticRegression\n",
        "\n",
        "    estimators_SSL = [\n",
        "    (\"mlp_classifier_SSL\", mlp_classifier_SSL),\n",
        "    (\"svm_clf_SSL\", svm_clf_SSL),\n",
        "    (\"KNN_clf_SSL\", KNN_clf_SSL),\n",
        "    ]\n",
        "\n",
        "\n",
        "    Stacking_Classifier_SSL = VotingClassifier(estimators_SSL)\n",
        "\n",
        "    #Internal\n",
        "    Stacking_Classifier_SSL.fit(Concatinated_X_RF_PT_Folds, Concatinated_Y_RF_PT_Folds)\n",
        "    y_predStacking = Stacking_Classifier_SSL.predict(X_val_fold)\n",
        "    accuracyStacking_SSL = accuracy_score(y_val_fold, y_predStacking)\n",
        "    cv_scores_Stacking_SSL.append(accuracyStacking_SSL)\n",
        "    #External\n",
        "    y_predStacking = Stacking_Classifier_SSL.predict(X_test_L_EX)\n",
        "    accuracyStacking_SSL = accuracy_score(Y_test_L_EX, y_predStacking)\n",
        "    cv_scores_Stacking_SSL_EX.append(accuracyStacking_SSL)\n",
        "\n",
        "    ### Supervised\n",
        "\n",
        "    estimators_SL = [\n",
        "    (\"mlp_classifier_SL\", mlp_classifier_SL),\n",
        "    (\"svm_clf_SL\", svm_clf_SL),\n",
        "    (\"KNN_clf_SL\", KNN_clf_SL),\n",
        "    ]\n",
        "\n",
        "    Stacking_Classifier_SL = VotingClassifier(estimators_SL)\n",
        "    #Internal\n",
        "    Stacking_Classifier_SL.fit(X_train_fold, y_train_fold)\n",
        "    y_predStacking = Stacking_Classifier_SL.predict(X_val_fold)\n",
        "    accuracyStacking_SL = accuracy_score(y_val_fold, y_predStacking)\n",
        "    cv_scores_Stacking_SL.append(accuracyStacking_SL)\n",
        "    #External\n",
        "    y_predStacking = Stacking_Classifier_SL.predict(X_test_L_EX)\n",
        "    accuracyStacking_SL = accuracy_score(Y_test_L_EX, y_predStacking)\n",
        "    cv_scores_Stacking_SL_EX.append(accuracyStacking_SL)\n",
        "\n",
        "\n",
        "############################################################\n",
        "\n",
        "\n",
        "print(\"----------------------------------------------------------------------------------\")\n",
        "print(\"MLP\")\n",
        "print (\"    -------  Average cross validation--------\")\n",
        "\n",
        "print(\"Mean accuracy_MLP_SSL:\", [(round(np.mean(cv_scores_MPL_SSL),2)),round(np.std(cv_scores_MPL_SSL),2)])\n",
        "\n",
        "print(\"Mean accuracy_MLP_SL:\", [round(np.mean(cv_scores_MPL_SL),2),round(np.std(cv_scores_MPL_SL),2)])\n",
        "\n",
        "print(\"Mean accuracy_NestedXT_MLP_SSL:\", [round(np.mean(cv_scores_MLP_SSL_EX),2),round(np.std(cv_scores_MLP_SSL_EX),2)])\n",
        "\n",
        "print(\"Mean accuracy_NestedXT_MLP_SL:\", [round(np.mean(cv_scores_MLP_SL_EX),2),round(np.std(cv_scores_MLP_SL_EX),2)])\n",
        "\n",
        "\n",
        "print(\"----------------------------------------------------------------------------------\")\n",
        "print(\"SVM\")\n",
        "\n",
        "print(\"Mean accuracy_SVM_SSL:\", [(round(np.mean(cv_scores_SVM_SSL),2)),round(np.std(cv_scores_SVM_SSL),2)])\n",
        "\n",
        "print(\"Mean accuracy_SVM_SL:\", [round(np.mean(cv_scores_SVM_SL),2),round(np.std(cv_scores_SVM_SL),2)])\n",
        "\n",
        "print(\"Mean accuracy_NestedXT_SVM_SSL:\", [round(np.mean(cv_scores_SVM_SSL_EX),2),round(np.std(cv_scores_SVM_SSL_EX),2)])\n",
        "\n",
        "print(\"Mean accuracy_NestedXT_SVM_SL:\", [round(np.mean(cv_scores_SVM_SL_EX),2),round(np.std(cv_scores_SVM_SL_EX),2)])\n",
        "\n",
        "print(\"----------------------------------------------------------------------------------\")\n",
        "\n",
        "print(\"KNN\")\n",
        "\n",
        "print(\"Mean accuracy_KNN_SSL:\", [(round(np.mean(cv_scores_KNN_SSL),2)),round(np.std(cv_scores_KNN_SSL),2)])\n",
        "\n",
        "print(\"Mean accuracy_KNN_SL:\", [round(np.mean(cv_scores_KNN_SL),2),round(np.std(cv_scores_KNN_SL),2)])\n",
        "\n",
        "print(\"Mean accuracy_NestedXT_KNN_SSL:\", [round(np.mean(cv_scores_KNN_SSL_EX),2),round(np.std(cv_scores_KNN_SSL_EX),2)])\n",
        "\n",
        "print(\"Mean accuracy_NestedXT_KNN_SL:\", [round(np.mean(cv_scores_KNN_SL_EX),2),round(np.std(cv_scores_KNN_SL_EX),2)])\n",
        "\n",
        "print(\"Stacking\")\n",
        "\n",
        "print(\"Mean accuracy_Stacking_SSL:\", [(round(np.mean(cv_scores_Stacking_SSL),2)),round(np.std(cv_scores_Stacking_SSL),2)])\n",
        "\n",
        "print(\"Mean accuracy_Stacking_SL:\", [round(np.mean(cv_scores_Stacking_SL),2),round(np.std(cv_scores_Stacking_SL),2)])\n",
        "\n",
        "print(\"Mean accuracy_NestedXT_Stacking_SSL:\", [round(np.mean(cv_scores_Stacking_SSL_EX),2),round(np.std(cv_scores_Stacking_SSL_EX),2)])\n",
        "\n",
        "print(\"Mean accuracy_NestedXT_Stacking_SL:\", [round(np.mean(cv_scores_Stacking_SL_EX),2),round(np.std(cv_scores_Stacking_SL_EX),2)])\n",
        "\n",
        "\n",
        "\n",
        "\n"
      ]
    },
    {
      "cell_type": "code",
      "execution_count": null,
      "metadata": {
        "id": "BH_pbnELPZto"
      },
      "outputs": [],
      "source": [
        "############ Visualize results  #####################"
      ]
    },
    {
      "cell_type": "code",
      "execution_count": null,
      "metadata": {
        "colab": {
          "base_uri": "https://localhost:8080/",
          "height": 238
        },
        "id": "Swd8JCHPaw7V",
        "outputId": "df821918-ed9c-4ddd-8d6f-c70a74a0f8c9"
      },
      "outputs": [
        {
          "data": {
            "application/vnd.google.colaboratory.intrinsic+json": {
              "summary": "{\n  \"name\": \"semi_results\",\n  \"rows\": 6,\n  \"fields\": [\n    {\n      \"column\": \"Feature type\",\n      \"properties\": {\n        \"dtype\": \"string\",\n        \"num_unique_values\": 3,\n        \"samples\": [\n          \"HRF\",\n          \"DRF\",\n          \"DRF+HRF\"\n        ],\n        \"semantic_type\": \"\",\n        \"description\": \"\"\n      }\n    },\n    {\n      \"column\": \"Modalities\",\n      \"properties\": {\n        \"dtype\": \"category\",\n        \"num_unique_values\": 2,\n        \"samples\": [\n          \"PET\",\n          \"CT\"\n        ],\n        \"semantic_type\": \"\",\n        \"description\": \"\"\n      }\n    },\n    {\n      \"column\": \"Type\",\n      \"properties\": {\n        \"dtype\": \"category\",\n        \"num_unique_values\": 1,\n        \"samples\": [\n          \"Semi-Supervised\"\n        ],\n        \"semantic_type\": \"\",\n        \"description\": \"\"\n      }\n    },\n    {\n      \"column\": \"FEA\",\n      \"properties\": {\n        \"dtype\": \"category\",\n        \"num_unique_values\": 1,\n        \"samples\": [\n          \"PCA\"\n        ],\n        \"semantic_type\": \"\",\n        \"description\": \"\"\n      }\n    },\n    {\n      \"column\": \"MLP\",\n      \"properties\": {\n        \"dtype\": \"string\",\n        \"num_unique_values\": 6,\n        \"samples\": [\n          \"0.75 (0.06)\"\n        ],\n        \"semantic_type\": \"\",\n        \"description\": \"\"\n      }\n    },\n    {\n      \"column\": \"Unnamed: 5\",\n      \"properties\": {\n        \"dtype\": \"string\",\n        \"num_unique_values\": 6,\n        \"samples\": [\n          \"0.68 (0.03)\"\n        ],\n        \"semantic_type\": \"\",\n        \"description\": \"\"\n      }\n    },\n    {\n      \"column\": \"SVM\",\n      \"properties\": {\n        \"dtype\": \"string\",\n        \"num_unique_values\": 6,\n        \"samples\": [\n          \"0.73 (0.07)\"\n        ],\n        \"semantic_type\": \"\",\n        \"description\": \"\"\n      }\n    },\n    {\n      \"column\": \"Unnamed: 7\",\n      \"properties\": {\n        \"dtype\": \"string\",\n        \"num_unique_values\": 6,\n        \"samples\": [\n          \"0.68 (0.0)\"\n        ],\n        \"semantic_type\": \"\",\n        \"description\": \"\"\n      }\n    },\n    {\n      \"column\": \"KNN\",\n      \"properties\": {\n        \"dtype\": \"string\",\n        \"num_unique_values\": 6,\n        \"samples\": [\n          \"0.72 (0.06)\"\n        ],\n        \"semantic_type\": \"\",\n        \"description\": \"\"\n      }\n    },\n    {\n      \"column\": \"Unnamed: 9\",\n      \"properties\": {\n        \"dtype\": \"string\",\n        \"num_unique_values\": 6,\n        \"samples\": [\n          \"0.68 (0.01)\"\n        ],\n        \"semantic_type\": \"\",\n        \"description\": \"\"\n      }\n    },\n    {\n      \"column\": \"EV\",\n      \"properties\": {\n        \"dtype\": \"string\",\n        \"num_unique_values\": 5,\n        \"samples\": [\n          \"0.73 (0.07)\"\n        ],\n        \"semantic_type\": \"\",\n        \"description\": \"\"\n      }\n    },\n    {\n      \"column\": \"Unnamed: 11\",\n      \"properties\": {\n        \"dtype\": \"string\",\n        \"num_unique_values\": 3,\n        \"samples\": [\n          \"0.68 (0.0)\"\n        ],\n        \"semantic_type\": \"\",\n        \"description\": \"\"\n      }\n    }\n  ]\n}",
              "type": "dataframe",
              "variable_name": "semi_results"
            },
            "text/html": [
              "\n",
              "  <div id=\"df-41e18b05-d4de-42b4-8cb5-ab779a357fc9\" class=\"colab-df-container\">\n",
              "    <div>\n",
              "<style scoped>\n",
              "    .dataframe tbody tr th:only-of-type {\n",
              "        vertical-align: middle;\n",
              "    }\n",
              "\n",
              "    .dataframe tbody tr th {\n",
              "        vertical-align: top;\n",
              "    }\n",
              "\n",
              "    .dataframe thead th {\n",
              "        text-align: right;\n",
              "    }\n",
              "</style>\n",
              "<table border=\"1\" class=\"dataframe\">\n",
              "  <thead>\n",
              "    <tr style=\"text-align: right;\">\n",
              "      <th></th>\n",
              "      <th>Feature type</th>\n",
              "      <th>Modalities</th>\n",
              "      <th>Type</th>\n",
              "      <th>FEA</th>\n",
              "      <th>MLP</th>\n",
              "      <th>Unnamed: 5</th>\n",
              "      <th>SVM</th>\n",
              "      <th>Unnamed: 7</th>\n",
              "      <th>KNN</th>\n",
              "      <th>Unnamed: 9</th>\n",
              "      <th>EV</th>\n",
              "      <th>Unnamed: 11</th>\n",
              "    </tr>\n",
              "  </thead>\n",
              "  <tbody>\n",
              "    <tr>\n",
              "      <th>1</th>\n",
              "      <td>HRF</td>\n",
              "      <td>CT</td>\n",
              "      <td>Semi-Supervised</td>\n",
              "      <td>PCA</td>\n",
              "      <td>0.75 (0.06)</td>\n",
              "      <td>0.68 (0.03)</td>\n",
              "      <td>0.73 (0.07)</td>\n",
              "      <td>0.68 (0.0)</td>\n",
              "      <td>0.72 (0.06)</td>\n",
              "      <td>0.68 (0.01)</td>\n",
              "      <td>0.72 (0.06)</td>\n",
              "      <td>0.68 (0.0)</td>\n",
              "    </tr>\n",
              "    <tr>\n",
              "      <th>3</th>\n",
              "      <td>HRF</td>\n",
              "      <td>PET</td>\n",
              "      <td>Semi-Supervised</td>\n",
              "      <td>PCA</td>\n",
              "      <td>0.77 (0.1)</td>\n",
              "      <td>0.72 (0.02)</td>\n",
              "      <td>0.76 (0.1)</td>\n",
              "      <td>0.72 (0.01)</td>\n",
              "      <td>0.76 (0.1)</td>\n",
              "      <td>0.72 (0.01)</td>\n",
              "      <td>0.73 (0.07)</td>\n",
              "      <td>0.68 (0.0)</td>\n",
              "    </tr>\n",
              "    <tr>\n",
              "      <th>5</th>\n",
              "      <td>DRF</td>\n",
              "      <td>CT</td>\n",
              "      <td>Semi-Supervised</td>\n",
              "      <td>PCA</td>\n",
              "      <td>0.83 (0.06)</td>\n",
              "      <td>0.79 (0.01)</td>\n",
              "      <td>0.82 (0.06)</td>\n",
              "      <td>0.77 (0.02)</td>\n",
              "      <td>0.81 (0.06)</td>\n",
              "      <td>0.74 (0.01)</td>\n",
              "      <td>0.69 (0.03)</td>\n",
              "      <td>0.82 (0.0)</td>\n",
              "    </tr>\n",
              "    <tr>\n",
              "      <th>7</th>\n",
              "      <td>DRF</td>\n",
              "      <td>PET</td>\n",
              "      <td>Semi-Supervised</td>\n",
              "      <td>PCA</td>\n",
              "      <td>0.85 (0.05)</td>\n",
              "      <td>0.8 (0.01)</td>\n",
              "      <td>0.81 (0.06)</td>\n",
              "      <td>0.8 (0.01)</td>\n",
              "      <td>0.83 (0.06)</td>\n",
              "      <td>0.81 (0.04)</td>\n",
              "      <td>0.7 (0.05)</td>\n",
              "      <td>0.8 (0.0)</td>\n",
              "    </tr>\n",
              "    <tr>\n",
              "      <th>9</th>\n",
              "      <td>DRF+HRF</td>\n",
              "      <td>PET</td>\n",
              "      <td>Semi-Supervised</td>\n",
              "      <td>PCA</td>\n",
              "      <td>0.71 (0.08)</td>\n",
              "      <td>0.75 (0.0)</td>\n",
              "      <td>0.71 (0.08)</td>\n",
              "      <td>0.75 (0.0)</td>\n",
              "      <td>0.7 (0.07)</td>\n",
              "      <td>0.75 (0.0)</td>\n",
              "      <td>0.73 (0.05)</td>\n",
              "      <td>0.68 (0.0)</td>\n",
              "    </tr>\n",
              "    <tr>\n",
              "      <th>11</th>\n",
              "      <td>DRF+HRF</td>\n",
              "      <td>CT</td>\n",
              "      <td>Semi-Supervised</td>\n",
              "      <td>PCA</td>\n",
              "      <td>0.7 (0.04)</td>\n",
              "      <td>0.82 (0.0)</td>\n",
              "      <td>0.69 (0.03)</td>\n",
              "      <td>0.82 (0.0)</td>\n",
              "      <td>0.69 (0.03)</td>\n",
              "      <td>0.82 (0.0)</td>\n",
              "      <td>0.69 (0.03)</td>\n",
              "      <td>0.82 (0.0)</td>\n",
              "    </tr>\n",
              "  </tbody>\n",
              "</table>\n",
              "</div>\n",
              "    <div class=\"colab-df-buttons\">\n",
              "\n",
              "  <div class=\"colab-df-container\">\n",
              "    <button class=\"colab-df-convert\" onclick=\"convertToInteractive('df-41e18b05-d4de-42b4-8cb5-ab779a357fc9')\"\n",
              "            title=\"Convert this dataframe to an interactive table.\"\n",
              "            style=\"display:none;\">\n",
              "\n",
              "  <svg xmlns=\"http://www.w3.org/2000/svg\" height=\"24px\" viewBox=\"0 -960 960 960\">\n",
              "    <path d=\"M120-120v-720h720v720H120Zm60-500h600v-160H180v160Zm220 220h160v-160H400v160Zm0 220h160v-160H400v160ZM180-400h160v-160H180v160Zm440 0h160v-160H620v160ZM180-180h160v-160H180v160Zm440 0h160v-160H620v160Z\"/>\n",
              "  </svg>\n",
              "    </button>\n",
              "\n",
              "  <style>\n",
              "    .colab-df-container {\n",
              "      display:flex;\n",
              "      gap: 12px;\n",
              "    }\n",
              "\n",
              "    .colab-df-convert {\n",
              "      background-color: #E8F0FE;\n",
              "      border: none;\n",
              "      border-radius: 50%;\n",
              "      cursor: pointer;\n",
              "      display: none;\n",
              "      fill: #1967D2;\n",
              "      height: 32px;\n",
              "      padding: 0 0 0 0;\n",
              "      width: 32px;\n",
              "    }\n",
              "\n",
              "    .colab-df-convert:hover {\n",
              "      background-color: #E2EBFA;\n",
              "      box-shadow: 0px 1px 2px rgba(60, 64, 67, 0.3), 0px 1px 3px 1px rgba(60, 64, 67, 0.15);\n",
              "      fill: #174EA6;\n",
              "    }\n",
              "\n",
              "    .colab-df-buttons div {\n",
              "      margin-bottom: 4px;\n",
              "    }\n",
              "\n",
              "    [theme=dark] .colab-df-convert {\n",
              "      background-color: #3B4455;\n",
              "      fill: #D2E3FC;\n",
              "    }\n",
              "\n",
              "    [theme=dark] .colab-df-convert:hover {\n",
              "      background-color: #434B5C;\n",
              "      box-shadow: 0px 1px 3px 1px rgba(0, 0, 0, 0.15);\n",
              "      filter: drop-shadow(0px 1px 2px rgba(0, 0, 0, 0.3));\n",
              "      fill: #FFFFFF;\n",
              "    }\n",
              "  </style>\n",
              "\n",
              "    <script>\n",
              "      const buttonEl =\n",
              "        document.querySelector('#df-41e18b05-d4de-42b4-8cb5-ab779a357fc9 button.colab-df-convert');\n",
              "      buttonEl.style.display =\n",
              "        google.colab.kernel.accessAllowed ? 'block' : 'none';\n",
              "\n",
              "      async function convertToInteractive(key) {\n",
              "        const element = document.querySelector('#df-41e18b05-d4de-42b4-8cb5-ab779a357fc9');\n",
              "        const dataTable =\n",
              "          await google.colab.kernel.invokeFunction('convertToInteractive',\n",
              "                                                    [key], {});\n",
              "        if (!dataTable) return;\n",
              "\n",
              "        const docLinkHtml = 'Like what you see? Visit the ' +\n",
              "          '<a target=\"_blank\" href=https://colab.research.google.com/notebooks/data_table.ipynb>data table notebook</a>'\n",
              "          + ' to learn more about interactive tables.';\n",
              "        element.innerHTML = '';\n",
              "        dataTable['output_type'] = 'display_data';\n",
              "        await google.colab.output.renderOutput(dataTable, element);\n",
              "        const docLink = document.createElement('div');\n",
              "        docLink.innerHTML = docLinkHtml;\n",
              "        element.appendChild(docLink);\n",
              "      }\n",
              "    </script>\n",
              "  </div>\n",
              "\n",
              "\n",
              "<div id=\"df-88bdfc90-6bf4-4320-b1a5-a02ecdaf108d\">\n",
              "  <button class=\"colab-df-quickchart\" onclick=\"quickchart('df-88bdfc90-6bf4-4320-b1a5-a02ecdaf108d')\"\n",
              "            title=\"Suggest charts\"\n",
              "            style=\"display:none;\">\n",
              "\n",
              "<svg xmlns=\"http://www.w3.org/2000/svg\" height=\"24px\"viewBox=\"0 0 24 24\"\n",
              "     width=\"24px\">\n",
              "    <g>\n",
              "        <path d=\"M19 3H5c-1.1 0-2 .9-2 2v14c0 1.1.9 2 2 2h14c1.1 0 2-.9 2-2V5c0-1.1-.9-2-2-2zM9 17H7v-7h2v7zm4 0h-2V7h2v10zm4 0h-2v-4h2v4z\"/>\n",
              "    </g>\n",
              "</svg>\n",
              "  </button>\n",
              "\n",
              "<style>\n",
              "  .colab-df-quickchart {\n",
              "      --bg-color: #E8F0FE;\n",
              "      --fill-color: #1967D2;\n",
              "      --hover-bg-color: #E2EBFA;\n",
              "      --hover-fill-color: #174EA6;\n",
              "      --disabled-fill-color: #AAA;\n",
              "      --disabled-bg-color: #DDD;\n",
              "  }\n",
              "\n",
              "  [theme=dark] .colab-df-quickchart {\n",
              "      --bg-color: #3B4455;\n",
              "      --fill-color: #D2E3FC;\n",
              "      --hover-bg-color: #434B5C;\n",
              "      --hover-fill-color: #FFFFFF;\n",
              "      --disabled-bg-color: #3B4455;\n",
              "      --disabled-fill-color: #666;\n",
              "  }\n",
              "\n",
              "  .colab-df-quickchart {\n",
              "    background-color: var(--bg-color);\n",
              "    border: none;\n",
              "    border-radius: 50%;\n",
              "    cursor: pointer;\n",
              "    display: none;\n",
              "    fill: var(--fill-color);\n",
              "    height: 32px;\n",
              "    padding: 0;\n",
              "    width: 32px;\n",
              "  }\n",
              "\n",
              "  .colab-df-quickchart:hover {\n",
              "    background-color: var(--hover-bg-color);\n",
              "    box-shadow: 0 1px 2px rgba(60, 64, 67, 0.3), 0 1px 3px 1px rgba(60, 64, 67, 0.15);\n",
              "    fill: var(--button-hover-fill-color);\n",
              "  }\n",
              "\n",
              "  .colab-df-quickchart-complete:disabled,\n",
              "  .colab-df-quickchart-complete:disabled:hover {\n",
              "    background-color: var(--disabled-bg-color);\n",
              "    fill: var(--disabled-fill-color);\n",
              "    box-shadow: none;\n",
              "  }\n",
              "\n",
              "  .colab-df-spinner {\n",
              "    border: 2px solid var(--fill-color);\n",
              "    border-color: transparent;\n",
              "    border-bottom-color: var(--fill-color);\n",
              "    animation:\n",
              "      spin 1s steps(1) infinite;\n",
              "  }\n",
              "\n",
              "  @keyframes spin {\n",
              "    0% {\n",
              "      border-color: transparent;\n",
              "      border-bottom-color: var(--fill-color);\n",
              "      border-left-color: var(--fill-color);\n",
              "    }\n",
              "    20% {\n",
              "      border-color: transparent;\n",
              "      border-left-color: var(--fill-color);\n",
              "      border-top-color: var(--fill-color);\n",
              "    }\n",
              "    30% {\n",
              "      border-color: transparent;\n",
              "      border-left-color: var(--fill-color);\n",
              "      border-top-color: var(--fill-color);\n",
              "      border-right-color: var(--fill-color);\n",
              "    }\n",
              "    40% {\n",
              "      border-color: transparent;\n",
              "      border-right-color: var(--fill-color);\n",
              "      border-top-color: var(--fill-color);\n",
              "    }\n",
              "    60% {\n",
              "      border-color: transparent;\n",
              "      border-right-color: var(--fill-color);\n",
              "    }\n",
              "    80% {\n",
              "      border-color: transparent;\n",
              "      border-right-color: var(--fill-color);\n",
              "      border-bottom-color: var(--fill-color);\n",
              "    }\n",
              "    90% {\n",
              "      border-color: transparent;\n",
              "      border-bottom-color: var(--fill-color);\n",
              "    }\n",
              "  }\n",
              "</style>\n",
              "\n",
              "  <script>\n",
              "    async function quickchart(key) {\n",
              "      const quickchartButtonEl =\n",
              "        document.querySelector('#' + key + ' button');\n",
              "      quickchartButtonEl.disabled = true;  // To prevent multiple clicks.\n",
              "      quickchartButtonEl.classList.add('colab-df-spinner');\n",
              "      try {\n",
              "        const charts = await google.colab.kernel.invokeFunction(\n",
              "            'suggestCharts', [key], {});\n",
              "      } catch (error) {\n",
              "        console.error('Error during call to suggestCharts:', error);\n",
              "      }\n",
              "      quickchartButtonEl.classList.remove('colab-df-spinner');\n",
              "      quickchartButtonEl.classList.add('colab-df-quickchart-complete');\n",
              "    }\n",
              "    (() => {\n",
              "      let quickchartButtonEl =\n",
              "        document.querySelector('#df-88bdfc90-6bf4-4320-b1a5-a02ecdaf108d button');\n",
              "      quickchartButtonEl.style.display =\n",
              "        google.colab.kernel.accessAllowed ? 'block' : 'none';\n",
              "    })();\n",
              "  </script>\n",
              "</div>\n",
              "    </div>\n",
              "  </div>\n"
            ],
            "text/plain": [
              "   Feature type Modalities             Type  FEA          MLP   Unnamed: 5  \\\n",
              "1           HRF         CT  Semi-Supervised  PCA  0.75 (0.06)  0.68 (0.03)   \n",
              "3           HRF        PET  Semi-Supervised  PCA   0.77 (0.1)  0.72 (0.02)   \n",
              "5           DRF         CT  Semi-Supervised  PCA  0.83 (0.06)  0.79 (0.01)   \n",
              "7           DRF        PET  Semi-Supervised  PCA  0.85 (0.05)   0.8 (0.01)   \n",
              "9       DRF+HRF        PET  Semi-Supervised  PCA  0.71 (0.08)   0.75 (0.0)   \n",
              "11      DRF+HRF         CT  Semi-Supervised  PCA   0.7 (0.04)   0.82 (0.0)   \n",
              "\n",
              "            SVM   Unnamed: 7          KNN   Unnamed: 9           EV  \\\n",
              "1   0.73 (0.07)   0.68 (0.0)  0.72 (0.06)  0.68 (0.01)  0.72 (0.06)   \n",
              "3    0.76 (0.1)  0.72 (0.01)   0.76 (0.1)  0.72 (0.01)  0.73 (0.07)   \n",
              "5   0.82 (0.06)  0.77 (0.02)  0.81 (0.06)  0.74 (0.01)  0.69 (0.03)   \n",
              "7   0.81 (0.06)   0.8 (0.01)  0.83 (0.06)  0.81 (0.04)   0.7 (0.05)   \n",
              "9   0.71 (0.08)   0.75 (0.0)   0.7 (0.07)   0.75 (0.0)  0.73 (0.05)   \n",
              "11  0.69 (0.03)   0.82 (0.0)  0.69 (0.03)   0.82 (0.0)  0.69 (0.03)   \n",
              "\n",
              "   Unnamed: 11  \n",
              "1   0.68 (0.0)  \n",
              "3   0.68 (0.0)  \n",
              "5   0.82 (0.0)  \n",
              "7    0.8 (0.0)  \n",
              "9   0.68 (0.0)  \n",
              "11  0.82 (0.0)  "
            ]
          },
          "execution_count": 104,
          "metadata": {},
          "output_type": "execute_result"
        }
      ],
      "source": [
        "import pandas as pd\n",
        "resultDf = pd.read_excel(\".../revision-Results.xlsx\",sheet_name = \"Total\",header=0)\n",
        "new_resultDf = resultDf.iloc[1:,:]\n",
        "sorted_resultDf = new_resultDf.sort_values(\"Type\")\n",
        "semi_results = sorted_resultDf.iloc[:6,:]\n",
        "sup_results = sorted_resultDf.iloc[6:,:]\n",
        "semi_results\n"
      ]
    },
    {
      "cell_type": "code",
      "execution_count": null,
      "metadata": {
        "colab": {
          "base_uri": "https://localhost:8080/",
          "height": 1000
        },
        "gather": {
          "logged": 1713078541538
        },
        "id": "7jcph7DTlYtj",
        "jupyter": {
          "outputs_hidden": false,
          "source_hidden": false
        },
        "nteract": {
          "transient": {
            "deleting": false
          }
        },
        "outputId": "f7f703be-4239-4788-c462-caffe515dbea"
      },
      "outputs": [],
      "source": [
        "import matplotlib.pyplot as plt\n",
        "import numpy as np\n",
        "import pandas as pd\n",
        "\n",
        "# Setting bold font globally\n",
        "plt.rcParams['font.weight'] = 'bold'\n",
        "plt.rcParams['axes.labelweight'] = 'bold'\n",
        "plt.rcParams['axes.titleweight'] = 'bold'\n",
        "\n",
        "a=0\n",
        "\n",
        "for i,row in sup_results.iterrows():\n",
        "\n",
        "  # Sample data for plotting or other operations\n",
        "  stores = ['MLP', 'SVM', 'KNN','EV']\n",
        "\n",
        "  sales_2019 = [float(row['MLP'].split(\"(\")[0]),\n",
        "                float(row['SVM'].split(\"(\")[0]),\n",
        "                float(row['KNN'].split(\"(\")[0]),\n",
        "                float(row['EV'].split(\"(\")[0])]\n",
        "  std_2019 = [float(row['MLP'].split(\"(\")[1].split(\")\")[0]),\n",
        "                float(row['SVM'].split(\"(\")[1].split(\")\")[0]),\n",
        "                float(row['KNN'].split(\"(\")[1].split(\")\")[0]),\n",
        "                float(row['EV'].split(\"(\")[1].split(\")\")[0])]\n",
        "\n",
        "  # print(semi_results.iloc[a,5])\n",
        "  # Standard deviations for the sample data\n",
        "  sales_2020 = [float(semi_results.iloc[a,4].split(\"(\")[0]),\n",
        "                float(semi_results.iloc[a,6].split(\"(\")[0]),\n",
        "                float(semi_results.iloc[a,8].split(\"(\")[0]),\n",
        "                float(semi_results.iloc[a,10].split(\"(\")[0])]\n",
        "  std_2020 = [float(semi_results.iloc[a,4].split(\"(\")[1].split(\")\")[0]),\n",
        "                float(semi_results.iloc[a,6].split(\"(\")[1].split(\")\")[0]),\n",
        "                float(semi_results.iloc[a,8].split(\"(\")[1].split(\")\")[0]),\n",
        "                float(semi_results.iloc[a,10].split(\"(\")[1].split(\")\")[0])]\n",
        "\n",
        "  a =a+1\n",
        "  # Create an index for each tick position\n",
        "  x = np.arange(len(stores))\n",
        "\n",
        "  # Bar width\n",
        "  width = 0.40\n",
        "\n",
        "  # Creating the bars with error bars\n",
        "  fig, ax = plt.subplots()\n",
        "  bars1 = ax.bar(x - width/2, sales_2019, width, label='Semi-supervised', yerr=std_2019, capsize=2, color='red')\n",
        "  bars2 = ax.bar(x + width/2, sales_2020, width, label='Supervised', yerr=std_2020, capsize=2, color='green')\n",
        "\n",
        "  # Adding some text for labels, title, and custom x-axis tick labels, etc.\n",
        "  ax.set_ylabel('Accuracy', fontsize=20)  # Increased font size for y-axis label\n",
        "  ax.set_title(row['Feature type']+\"-\"+row['Modalities'], fontsize=20)  # Increased title font size for consistency\n",
        "  ax.set_xticks(x)\n",
        "  ax.set_xticklabels(stores, fontsize=16, fontweight='bold')  # Maintaining increased font size for x-tick labels\n",
        "\n",
        "  # Set y-axis limits\n",
        "  ax.set_ylim(0, 1)\n",
        "\n",
        "  # Increase font size of y-axis tick labels\n",
        "  ax.tick_params(axis='y', labelsize=14)  # Set font size for y-axis tick labels\n",
        "\n",
        "  # ax.legend()\n",
        "\n",
        "  # Adding grid\n",
        "  ax.grid(True, linestyle='--', which='major', color='grey', alpha=0.5)\n",
        "\n",
        "  # Show the plot\n",
        "  plt.show()\n",
        "  fig.savefig(row['Feature type']+\"_\"+row['Modalities']+'.png')"
      ]
    }
  ],
  "metadata": {
    "colab": {
      "provenance": []
    },
    "kernel_info": {
      "name": "python310-sdkv2"
    },
    "kernelspec": {
      "display_name": "Python 3.10 - SDK v2",
      "language": "python",
      "name": "python310-sdkv2"
    },
    "language_info": {
      "codemirror_mode": {
        "name": "ipython",
        "version": 3
      },
      "file_extension": ".py",
      "mimetype": "text/x-python",
      "name": "python",
      "nbconvert_exporter": "python",
      "pygments_lexer": "ipython3",
      "version": "3.10.11"
    },
    "microsoft": {
      "host": {
        "AzureML": {
          "notebookHasBeenCompleted": true
        }
      },
      "ms_spell_check": {
        "ms_spell_check_language": "en"
      }
    },
    "nteract": {
      "version": "nteract-front-end@1.0.0"
    }
  },
  "nbformat": 4,
  "nbformat_minor": 0
}
